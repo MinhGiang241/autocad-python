{
 "cells": [
  {
   "cell_type": "markdown",
   "id": "6a0eebd4",
   "metadata": {},
   "source": [
    "## Code Lấy tọa độ diểm"
   ]
  },
  {
   "cell_type": "code",
   "execution_count": 21,
   "id": "15e5a380",
   "metadata": {},
   "outputs": [],
   "source": [
    "from IPython.utils.generics import complete_object\n",
    "\n",
    "import win32com.client\n",
    "\n",
    "# Tạo đối tượng AutoCAD\n",
    "acad_app = win32com.client.Dispatch(\"AutoCAD.Application\")\n",
    "\n",
    "acad_app.Visible = True\n",
    "\n",
    "# acadModel = acad.ActiveDocument.ModelSpace\n",
    "\n",
    "# Lấy tham chiếu đến bản vẽ đang hoạt động\n",
    "doc = acad_app.ActiveDocument\n",
    "\n",
    "# Lấy tọa độ điểm\n",
    "# doc.Utility.GetPoint()"
   ]
  },
  {
   "cell_type": "code",
   "execution_count": 40,
   "id": "f2e34d1a",
   "metadata": {},
   "outputs": [],
   "source": [
    "from pyautocad import Autocad, APoint, aDouble \n",
    "from IPython.utils.generics import complete_object\n",
    "from math import *\n",
    "\n"
   ]
  },
  {
   "cell_type": "code",
   "execution_count": 23,
   "id": "f1097461",
   "metadata": {},
   "outputs": [],
   "source": [
    "acad = Autocad(create_if_not_exists=True)\n",
    "\n",
    "p1 = APoint(0, 0)\n",
    "p2 = APoint(50, 25)\n",
    "for i in range(5):\n",
    "    text = acad.model.AddText(u'Hi %s!' % i, p1, 2.5)\n",
    "    acad.model.AddLine(p1, p2)\n",
    "    acad.model.AddCircle(p1, 10)\n",
    "    p1.y += 10"
   ]
  },
  {
   "cell_type": "code",
   "execution_count": 24,
   "id": "0cdfa53b",
   "metadata": {},
   "outputs": [],
   "source": [
    "\n",
    "# Khai báo layer\n",
    "\n",
    "layer_name = [\"DIM\", \"TEXT\",\"CONCRETE\",\"HASH\"]\n",
    "layer_col = [8,30,252,11] # chỉ tạo được các màu có index\n",
    "layer_lt=[\"continuous\",\"continuous\",\"continuous\",\"continuous\",]\n",
    "layer_des=['DimLyer',\"Text\", \"Bê tông\", 'hash']\n",
    "layer_lw=[5,9,13,25]\n",
    "\n",
    "for i in range(len(layer_name)):\n",
    "    oLayer = doc.Layers.Add(layer_name[i])\n",
    "    oLayer.color = layer_col[i]\n",
    "    oLayer.description = layer_des[i]\n",
    "    oLayer.Linetype = layer_lt[i]\n",
    "    oLayer.Lineweight = layer_lw[i]"
   ]
  },
  {
   "cell_type": "code",
   "execution_count": 29,
   "id": "42bfe75b",
   "metadata": {},
   "outputs": [],
   "source": [
    "doc2 = acad.ActiveDocument"
   ]
  },
  {
   "cell_type": "code",
   "execution_count": 30,
   "id": "c59a0160",
   "metadata": {},
   "outputs": [],
   "source": [
    "a = doc2.Blocks.Add(APoint(0, 0), \"REC\")"
   ]
  },
  {
   "cell_type": "code",
   "execution_count": 33,
   "id": "012689dd",
   "metadata": {},
   "outputs": [],
   "source": [
    "a = doc2.Blocks.Item(\"REC\")"
   ]
  },
  {
   "cell_type": "code",
   "execution_count": 42,
   "id": "56cda777",
   "metadata": {},
   "outputs": [
    {
     "ename": "NameError",
     "evalue": "Name AddEntity not found",
     "output_type": "error",
     "traceback": [
      "\u001b[1;31m---------------------------------------------------------------------------\u001b[0m",
      "\u001b[1;31mKeyError\u001b[0m                                  Traceback (most recent call last)",
      "File \u001b[1;32m~\\AppData\\Local\\Packages\\PythonSoftwareFoundation.Python.3.10_qbz5n2kfra8p0\\LocalCache\\local-packages\\Python310\\site-packages\\comtypes\\client\\lazybind.py:123\u001b[0m, in \u001b[0;36mDispatch.__bind\u001b[1;34m(self, name, invkind)\u001b[0m\n\u001b[0;32m    122\u001b[0m \u001b[38;5;28;01mtry\u001b[39;00m:\n\u001b[1;32m--> 123\u001b[0m     \u001b[38;5;28;01mreturn\u001b[39;00m \u001b[38;5;28;43mself\u001b[39;49m\u001b[38;5;241;43m.\u001b[39;49m\u001b[43m_tdesc\u001b[49m\u001b[43m[\u001b[49m\u001b[43m(\u001b[49m\u001b[43mname\u001b[49m\u001b[43m,\u001b[49m\u001b[43m \u001b[49m\u001b[43minvkind\u001b[49m\u001b[43m)\u001b[49m\u001b[43m]\u001b[49m\n\u001b[0;32m    124\u001b[0m \u001b[38;5;28;01mexcept\u001b[39;00m \u001b[38;5;167;01mKeyError\u001b[39;00m:\n",
      "\u001b[1;31mKeyError\u001b[0m: ('AddEntity', 3)",
      "\nDuring handling of the above exception, another exception occurred:\n",
      "\u001b[1;31mNameError\u001b[0m                                 Traceback (most recent call last)",
      "Cell \u001b[1;32mIn[42], line 4\u001b[0m\n\u001b[0;32m      1\u001b[0m sqp \u001b[38;5;241m=\u001b[39m aDouble(\u001b[38;5;241m50\u001b[39m, \u001b[38;5;241m150\u001b[39m, \u001b[38;5;241m0\u001b[39m, \u001b[38;5;241m50\u001b[39m, \u001b[38;5;241m550\u001b[39m, \u001b[38;5;241m0\u001b[39m, \u001b[38;5;241m850\u001b[39m, \u001b[38;5;241m550\u001b[39m, \u001b[38;5;241m0\u001b[39m, \u001b[38;5;241m850\u001b[39m, \u001b[38;5;241m150\u001b[39m, \u001b[38;5;241m0\u001b[39m, \u001b[38;5;241m50\u001b[39m, \u001b[38;5;241m150\u001b[39m, \u001b[38;5;241m0\u001b[39m)\n\u001b[0;32m      2\u001b[0m sq1 \u001b[38;5;241m=\u001b[39m acad\u001b[38;5;241m.\u001b[39mmodel\u001b[38;5;241m.\u001b[39mAddPolyline(sqp)\n\u001b[1;32m----> 4\u001b[0m \u001b[43ma\u001b[49m\u001b[38;5;241;43m.\u001b[39;49m\u001b[43mAddEntity\u001b[49m(sq1)\n\u001b[0;32m      6\u001b[0m \u001b[38;5;66;03m# Step 3: Update the block definition with the modified block reference\u001b[39;00m\n\u001b[0;32m      7\u001b[0m acad\u001b[38;5;241m.\u001b[39mmodel\u001b[38;5;241m.\u001b[39mBlocks\u001b[38;5;241m.\u001b[39mUpdate()\n",
      "File \u001b[1;32m~\\AppData\\Local\\Packages\\PythonSoftwareFoundation.Python.3.10_qbz5n2kfra8p0\\LocalCache\\local-packages\\Python310\\site-packages\\comtypes\\client\\lazybind.py:161\u001b[0m, in \u001b[0;36mDispatch.__getattr__\u001b[1;34m(self, name)\u001b[0m\n\u001b[0;32m    159\u001b[0m     \u001b[38;5;28;01mraise\u001b[39;00m \u001b[38;5;167;01mAttributeError\u001b[39;00m(name)\n\u001b[0;32m    160\u001b[0m \u001b[38;5;66;03m# check for propget or method\u001b[39;00m\n\u001b[1;32m--> 161\u001b[0m descr \u001b[38;5;241m=\u001b[39m \u001b[38;5;28;43mself\u001b[39;49m\u001b[38;5;241;43m.\u001b[39;49m\u001b[43m__bind\u001b[49m\u001b[43m(\u001b[49m\u001b[43mname\u001b[49m\u001b[43m,\u001b[49m\u001b[43m \u001b[49m\u001b[43mDISPATCH_METHOD\u001b[49m\u001b[43m \u001b[49m\u001b[38;5;241;43m|\u001b[39;49m\u001b[43m \u001b[49m\u001b[43mDISPATCH_PROPERTYGET\u001b[49m\u001b[43m)\u001b[49m\n\u001b[0;32m    162\u001b[0m \u001b[38;5;28;01mif\u001b[39;00m descr \u001b[38;5;129;01mis\u001b[39;00m \u001b[38;5;28;01mNone\u001b[39;00m:\n\u001b[0;32m    163\u001b[0m     \u001b[38;5;28;01mraise\u001b[39;00m \u001b[38;5;167;01mAttributeError\u001b[39;00m(name)\n",
      "File \u001b[1;32m~\\AppData\\Local\\Packages\\PythonSoftwareFoundation.Python.3.10_qbz5n2kfra8p0\\LocalCache\\local-packages\\Python310\\site-packages\\comtypes\\client\\lazybind.py:126\u001b[0m, in \u001b[0;36mDispatch.__bind\u001b[1;34m(self, name, invkind)\u001b[0m\n\u001b[0;32m    124\u001b[0m \u001b[38;5;28;01mexcept\u001b[39;00m \u001b[38;5;167;01mKeyError\u001b[39;00m:\n\u001b[0;32m    125\u001b[0m     \u001b[38;5;28;01mtry\u001b[39;00m:\n\u001b[1;32m--> 126\u001b[0m         descr \u001b[38;5;241m=\u001b[39m \u001b[38;5;28;43mself\u001b[39;49m\u001b[38;5;241;43m.\u001b[39;49m\u001b[43m_tcomp\u001b[49m\u001b[38;5;241;43m.\u001b[39;49m\u001b[43mBind\u001b[49m\u001b[43m(\u001b[49m\u001b[43mname\u001b[49m\u001b[43m,\u001b[49m\u001b[43m \u001b[49m\u001b[43minvkind\u001b[49m\u001b[43m)\u001b[49m[\u001b[38;5;241m1\u001b[39m]\n\u001b[0;32m    127\u001b[0m     \u001b[38;5;28;01mexcept\u001b[39;00m comtypes\u001b[38;5;241m.\u001b[39mCOMError:\n\u001b[0;32m    128\u001b[0m         info \u001b[38;5;241m=\u001b[39m \u001b[38;5;28;01mNone\u001b[39;00m\n",
      "File \u001b[1;32m~\\AppData\\Local\\Packages\\PythonSoftwareFoundation.Python.3.10_qbz5n2kfra8p0\\LocalCache\\local-packages\\Python310\\site-packages\\comtypes\\typeinfo.py:366\u001b[0m, in \u001b[0;36mITypeComp.Bind\u001b[1;34m(self, name, flags, lHashVal)\u001b[0m\n\u001b[0;32m    364\u001b[0m     \u001b[38;5;28;01mraise\u001b[39;00m \u001b[38;5;167;01mNotImplementedError\u001b[39;00m\n\u001b[0;32m    365\u001b[0m \u001b[38;5;28;01melif\u001b[39;00m kind \u001b[38;5;241m==\u001b[39m DESCKIND_NONE:\n\u001b[1;32m--> 366\u001b[0m     \u001b[38;5;28;01mraise\u001b[39;00m \u001b[38;5;167;01mNameError\u001b[39;00m(\u001b[38;5;124m\"\u001b[39m\u001b[38;5;124mName \u001b[39m\u001b[38;5;132;01m%s\u001b[39;00m\u001b[38;5;124m not found\u001b[39m\u001b[38;5;124m\"\u001b[39m \u001b[38;5;241m%\u001b[39m name)\n",
      "\u001b[1;31mNameError\u001b[0m: Name AddEntity not found"
     ]
    }
   ],
   "source": [
    "sqp = aDouble(50, 150, 0, 50, 550, 0, 850, 550, 0, 850, 150, 0, 50, 150, 0)\n",
    "sq1 = acad.model.AddPolyline(sqp)\n",
    "\n",
    "a.AddEntity(sq1)\n",
    "\n",
    "# Step 3: Update the block definition with the modified block reference\n",
    "acad.model.Blocks.Update()"
   ]
  },
  {
   "cell_type": "code",
   "execution_count": 48,
   "id": "a5af4011",
   "metadata": {},
   "outputs": [
    {
     "name": "stdout",
     "output_type": "stream",
     "text": [
      "Enter length of rectangle:100 \n",
      "Enter width of rectangle:200\n"
     ]
    }
   ],
   "source": [
    "# Hàm vẽ hình chữ nhật\n",
    "\n",
    "def array_rectangle(x, y, z, r, c, lr, dr, dc, dl):\n",
    "    l=int(input(\"Enter length of rectangle:\"))\n",
    "    w=int(input(\"Enter width of rectangle:\"))\n",
    "    rect = (x, y, z, x, y+w, z, x+l, y+w, z, x+l, y, z, x, y, z)\n",
    "    rec = acad.model.AddPolyline(aDouble(rect))\n",
    "#     arr = rec.ArrayRectangular(r, c, lr, dr+w, dc+l, dl)\n",
    "\n",
    "b = array_rectangle(50, 150, 0, 3, 3, 1, 150, 250, 0)\n"
   ]
  },
  {
   "cell_type": "code",
   "execution_count": null,
   "id": "2e751b5a",
   "metadata": {},
   "outputs": [],
   "source": [
    "\n",
    "\n",
    "acad.model.InsertBlock(APoint(250, 500, 0), \"REC\", 1, 1, 1, 0)\n"
   ]
  },
  {
   "cell_type": "code",
   "execution_count": 47,
   "id": "7ee7e832",
   "metadata": {},
   "outputs": [
    {
     "data": {
      "text/plain": [
       "['Add3DFace',\n",
       " 'Add3DMesh',\n",
       " 'Add3DPoly',\n",
       " 'AddArc',\n",
       " 'AddAttribute',\n",
       " 'AddBox',\n",
       " 'AddCircle',\n",
       " 'AddCone',\n",
       " 'AddCustomObject',\n",
       " 'AddCylinder',\n",
       " 'AddDim3PointAngular',\n",
       " 'AddDimAligned',\n",
       " 'AddDimAngular',\n",
       " 'AddDimArc',\n",
       " 'AddDimDiametric',\n",
       " 'AddDimOrdinate',\n",
       " 'AddDimRadial',\n",
       " 'AddDimRadialLarge',\n",
       " 'AddDimRotated',\n",
       " 'AddEllipse',\n",
       " 'AddEllipticalCone',\n",
       " 'AddEllipticalCylinder',\n",
       " 'AddExtrudedSolid',\n",
       " 'AddExtrudedSolidAlongPath',\n",
       " 'AddHatch',\n",
       " 'AddLeader',\n",
       " 'AddLightWeightPolyline',\n",
       " 'AddLine',\n",
       " 'AddMInsertBlock',\n",
       " 'AddMLeader',\n",
       " 'AddMLine',\n",
       " 'AddMText',\n",
       " 'AddPoint',\n",
       " 'AddPolyfaceMesh',\n",
       " 'AddPolyline',\n",
       " 'AddRaster',\n",
       " 'AddRay',\n",
       " 'AddRef',\n",
       " 'AddRegion',\n",
       " 'AddRevolvedSolid',\n",
       " 'AddSection',\n",
       " 'AddShape',\n",
       " 'AddSolid',\n",
       " 'AddSphere',\n",
       " 'AddSpline',\n",
       " 'AddTable',\n",
       " 'AddText',\n",
       " 'AddTolerance',\n",
       " 'AddTorus',\n",
       " 'AddTrace',\n",
       " 'AddWedge',\n",
       " 'AddXline',\n",
       " 'Application',\n",
       " 'AttachExternalReference',\n",
       " 'Bind',\n",
       " 'BlockScaling',\n",
       " 'Comments',\n",
       " 'Count',\n",
       " 'Database',\n",
       " 'Delete',\n",
       " 'Detach',\n",
       " 'Document',\n",
       " 'Erase',\n",
       " 'Explodable',\n",
       " 'GetExtensionDictionary',\n",
       " 'GetIDsOfNames',\n",
       " 'GetTypeInfo',\n",
       " 'GetTypeInfoCount',\n",
       " 'GetXData',\n",
       " 'Handle',\n",
       " 'HasExtensionDictionary',\n",
       " 'InsertBlock',\n",
       " 'Invoke',\n",
       " 'IsDynamicBlock',\n",
       " 'IsLayout',\n",
       " 'IsXRef',\n",
       " 'Item',\n",
       " 'Layout',\n",
       " 'Name',\n",
       " 'ObjectID',\n",
       " 'ObjectName',\n",
       " 'Origin',\n",
       " 'OwnerID',\n",
       " 'Path',\n",
       " 'QueryInterface',\n",
       " 'Release',\n",
       " 'Reload',\n",
       " 'SetXData',\n",
       " 'Units',\n",
       " 'Unload',\n",
       " 'XRefDatabase',\n",
       " '_ApplyTypes_',\n",
       " '_FlagAsMethod',\n",
       " '_LazyAddAttr_',\n",
       " '_NewEnum',\n",
       " '_Release_',\n",
       " '_UpdateWithITypeInfo_',\n",
       " '__AttrToID__',\n",
       " '__LazyMap__',\n",
       " '__bool__',\n",
       " '__call__',\n",
       " '__class__',\n",
       " '__delattr__',\n",
       " '__dict__',\n",
       " '__dir__',\n",
       " '__doc__',\n",
       " '__eq__',\n",
       " '__format__',\n",
       " '__ge__',\n",
       " '__getattr__',\n",
       " '__getattribute__',\n",
       " '__getitem__',\n",
       " '__gt__',\n",
       " '__hash__',\n",
       " '__init__',\n",
       " '__init_subclass__',\n",
       " '__int__',\n",
       " '__le__',\n",
       " '__len__',\n",
       " '__lt__',\n",
       " '__module__',\n",
       " '__ne__',\n",
       " '__new__',\n",
       " '__reduce__',\n",
       " '__reduce_ex__',\n",
       " '__repr__',\n",
       " '__setattr__',\n",
       " '__setitem__',\n",
       " '__sizeof__',\n",
       " '__str__',\n",
       " '__subclasshook__',\n",
       " '__weakref__',\n",
       " '_builtMethods_',\n",
       " '_dir_ole_',\n",
       " '_enum_',\n",
       " '_find_dispatch_type_',\n",
       " '_get_good_object_',\n",
       " '_get_good_single_object_',\n",
       " '_lazydata_',\n",
       " '_make_method_',\n",
       " '_mapCachedItems_',\n",
       " '_oleobj_',\n",
       " '_olerepr_',\n",
       " '_print_details_',\n",
       " '_proc_',\n",
       " '_unicode_to_string_',\n",
       " '_username_',\n",
       " '_wrap_dispatch_']"
      ]
     },
     "execution_count": 47,
     "metadata": {},
     "output_type": "execute_result"
    }
   ],
   "source": [
    "dir(acad_app.ActiveDocument.Blocks.Item(0))"
   ]
  },
  {
   "cell_type": "code",
   "execution_count": 49,
   "id": "fdbc7c57",
   "metadata": {},
   "outputs": [
    {
     "ename": "COMError",
     "evalue": "(-2147352567, 'Exception occurred.', (None, None, None, 0, None))",
     "output_type": "error",
     "traceback": [
      "\u001b[1;31m---------------------------------------------------------------------------\u001b[0m",
      "\u001b[1;31mCOMError\u001b[0m                                  Traceback (most recent call last)",
      "Cell \u001b[1;32mIn[49], line 1\u001b[0m\n\u001b[1;32m----> 1\u001b[0m \u001b[43ma\u001b[49m\u001b[38;5;241;43m.\u001b[39;49m\u001b[43mAddPolyline\u001b[49m\u001b[43m(\u001b[49m\u001b[43mb\u001b[49m\u001b[43m)\u001b[49m\n",
      "File \u001b[1;32m~\\AppData\\Local\\Packages\\PythonSoftwareFoundation.Python.3.10_qbz5n2kfra8p0\\LocalCache\\local-packages\\Python310\\site-packages\\comtypes\\client\\lazybind.py:182\u001b[0m, in \u001b[0;36mDispatch.__getattr__.<locals>.caller\u001b[1;34m(*args)\u001b[0m\n\u001b[0;32m    181\u001b[0m \u001b[38;5;28;01mdef\u001b[39;00m \u001b[38;5;21mcaller\u001b[39m(\u001b[38;5;241m*\u001b[39margs):\n\u001b[1;32m--> 182\u001b[0m     \u001b[38;5;28;01mreturn\u001b[39;00m \u001b[38;5;28;43mself\u001b[39;49m\u001b[38;5;241;43m.\u001b[39;49m\u001b[43m_comobj\u001b[49m\u001b[38;5;241;43m.\u001b[39;49m\u001b[43m_invoke\u001b[49m\u001b[43m(\u001b[49m\u001b[43mdescr\u001b[49m\u001b[38;5;241;43m.\u001b[39;49m\u001b[43mmemid\u001b[49m\u001b[43m,\u001b[49m\u001b[43m \u001b[49m\u001b[43mdescr\u001b[49m\u001b[38;5;241;43m.\u001b[39;49m\u001b[43minvkind\u001b[49m\u001b[43m,\u001b[49m\u001b[43m \u001b[49m\u001b[38;5;241;43m0\u001b[39;49m\u001b[43m,\u001b[49m\u001b[43m \u001b[49m\u001b[38;5;241;43m*\u001b[39;49m\u001b[43margs\u001b[49m\u001b[43m)\u001b[49m\n",
      "File \u001b[1;32m~\\AppData\\Local\\Packages\\PythonSoftwareFoundation.Python.3.10_qbz5n2kfra8p0\\LocalCache\\local-packages\\Python310\\site-packages\\comtypes\\automation.py:745\u001b[0m, in \u001b[0;36mIDispatch._invoke\u001b[1;34m(self, memid, invkind, lcid, *args)\u001b[0m\n\u001b[0;32m    742\u001b[0m         dp\u001b[38;5;241m.\u001b[39mrgdispidNamedArgs \u001b[38;5;241m=\u001b[39m pointer(DISPID(DISPID_PROPERTYPUT))\n\u001b[0;32m    743\u001b[0m     dp\u001b[38;5;241m.\u001b[39mrgvarg \u001b[38;5;241m=\u001b[39m array\n\u001b[1;32m--> 745\u001b[0m \u001b[38;5;28;43mself\u001b[39;49m\u001b[38;5;241;43m.\u001b[39;49m\u001b[43m__com_Invoke\u001b[49m\u001b[43m(\u001b[49m\u001b[43mmemid\u001b[49m\u001b[43m,\u001b[49m\u001b[43m \u001b[49m\u001b[43mriid_null\u001b[49m\u001b[43m,\u001b[49m\u001b[43m \u001b[49m\u001b[43mlcid\u001b[49m\u001b[43m,\u001b[49m\u001b[43m \u001b[49m\u001b[43minvkind\u001b[49m\u001b[43m,\u001b[49m\n\u001b[0;32m    746\u001b[0m \u001b[43m                  \u001b[49m\u001b[43mdp\u001b[49m\u001b[43m,\u001b[49m\u001b[43m \u001b[49m\u001b[43mvar\u001b[49m\u001b[43m,\u001b[49m\u001b[43m \u001b[49m\u001b[38;5;28;43;01mNone\u001b[39;49;00m\u001b[43m,\u001b[49m\u001b[43m \u001b[49m\u001b[43margerr\u001b[49m\u001b[43m)\u001b[49m\n\u001b[0;32m    747\u001b[0m \u001b[38;5;28;01mreturn\u001b[39;00m var\u001b[38;5;241m.\u001b[39m_get_value(dynamic\u001b[38;5;241m=\u001b[39m\u001b[38;5;28;01mTrue\u001b[39;00m)\n",
      "\u001b[1;31mCOMError\u001b[0m: (-2147352567, 'Exception occurred.', (None, None, None, 0, None))"
     ]
    }
   ],
   "source": [
    "a.AddPolyline(b)"
   ]
  },
  {
   "cell_type": "code",
   "execution_count": null,
   "id": "ddf38cbe",
   "metadata": {},
   "outputs": [],
   "source": [
    "dir()"
   ]
  }
 ],
 "metadata": {
  "kernelspec": {
   "display_name": "Python 3 (ipykernel)",
   "language": "python",
   "name": "python3"
  },
  "language_info": {
   "codemirror_mode": {
    "name": "ipython",
    "version": 3
   },
   "file_extension": ".py",
   "mimetype": "text/x-python",
   "name": "python",
   "nbconvert_exporter": "python",
   "pygments_lexer": "ipython3",
   "version": "3.10.11"
  }
 },
 "nbformat": 4,
 "nbformat_minor": 5
}
