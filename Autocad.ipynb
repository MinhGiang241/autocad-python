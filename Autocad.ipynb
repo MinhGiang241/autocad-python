{
 "cells": [
  {
   "cell_type": "code",
   "execution_count": 1,
   "id": "c0d01543",
   "metadata": {},
   "outputs": [],
   "source": [
    "from pyautocad import Autocad, APoint\n",
    "import pythoncom"
   ]
  },
  {
   "cell_type": "code",
   "execution_count": 4,
   "id": "5db23f2b",
   "metadata": {},
   "outputs": [],
   "source": [
    "from IPython.utils.generics import complete_object\n",
    "\n",
    "import win32com.client\n",
    "\n",
    "# Tạo đối tượng AutoCAD\n",
    "acad_app = win32com.client.Dispatch(\"AutoCAD.Application\")\n",
    "\n",
    "acad_app.Visible = True\n",
    "\n",
    "# acadModel = acad.ActiveDocument.ModelSpace\n",
    "\n",
    "# Lấy tham chiếu đến bản vẽ đang hoạt động\n",
    "doc = acad_app.ActiveDocument"
   ]
  },
  {
   "cell_type": "code",
   "execution_count": 119,
   "id": "2eb4bf95",
   "metadata": {},
   "outputs": [
    {
     "name": "stdout",
     "output_type": "stream",
     "text": [
      "Hello, Autocad from Python\n"
     ]
    },
    {
     "ename": "COMError",
     "evalue": "(-2147418111, 'Call was rejected by callee.', (None, None, None, 0, None))",
     "output_type": "error",
     "traceback": [
      "\u001b[1;31m---------------------------------------------------------------------------\u001b[0m",
      "\u001b[1;31mCOMError\u001b[0m                                  Traceback (most recent call last)",
      "Cell \u001b[1;32mIn[119], line 4\u001b[0m\n\u001b[0;32m      1\u001b[0m \u001b[38;5;66;03m#pyautocad\u001b[39;00m\n\u001b[0;32m      3\u001b[0m acad \u001b[38;5;241m=\u001b[39m Autocad(create_if_not_exists\u001b[38;5;241m=\u001b[39m\u001b[38;5;28;01mTrue\u001b[39;00m)\n\u001b[1;32m----> 4\u001b[0m \u001b[43macad\u001b[49m\u001b[38;5;241;43m.\u001b[39;49m\u001b[43mprompt\u001b[49m\u001b[43m(\u001b[49m\u001b[38;5;124;43m\"\u001b[39;49m\u001b[38;5;124;43mHello, Autocad from Python\u001b[39;49m\u001b[38;5;124;43m\"\u001b[39;49m\u001b[43m)\u001b[49m\n\u001b[0;32m      5\u001b[0m \u001b[38;5;28mprint\u001b[39m( acad\u001b[38;5;241m.\u001b[39mdoc\u001b[38;5;241m.\u001b[39mName)\n",
      "File \u001b[1;32m~\\AppData\\Local\\Packages\\PythonSoftwareFoundation.Python.3.10_qbz5n2kfra8p0\\LocalCache\\local-packages\\Python310\\site-packages\\pyautocad\\api.py:162\u001b[0m, in \u001b[0;36mAutocad.prompt\u001b[1;34m(self, text)\u001b[0m\n\u001b[0;32m    159\u001b[0m \u001b[38;5;124;03m\"\"\" Prints text in console and in `AutoCAD` prompt\u001b[39;00m\n\u001b[0;32m    160\u001b[0m \u001b[38;5;124;03m\"\"\"\u001b[39;00m\n\u001b[0;32m    161\u001b[0m \u001b[38;5;28mprint\u001b[39m(text)\n\u001b[1;32m--> 162\u001b[0m \u001b[38;5;28;43mself\u001b[39;49m\u001b[38;5;241;43m.\u001b[39;49m\u001b[43mdoc\u001b[49m\u001b[38;5;241;43m.\u001b[39;49m\u001b[43mUtility\u001b[49m\u001b[38;5;241m.\u001b[39mPrompt(\u001b[38;5;124mu\u001b[39m\u001b[38;5;124m\"\u001b[39m\u001b[38;5;132;01m%s\u001b[39;00m\u001b[38;5;130;01m\\n\u001b[39;00m\u001b[38;5;124m\"\u001b[39m \u001b[38;5;241m%\u001b[39m text)\n",
      "File \u001b[1;32m~\\AppData\\Local\\Packages\\PythonSoftwareFoundation.Python.3.10_qbz5n2kfra8p0\\LocalCache\\local-packages\\Python310\\site-packages\\comtypes\\client\\dynamic.py:111\u001b[0m, in \u001b[0;36m_Dispatch.__getattr__\u001b[1;34m(self, name)\u001b[0m\n\u001b[0;32m    109\u001b[0m dispid \u001b[38;5;241m=\u001b[39m \u001b[38;5;28mself\u001b[39m\u001b[38;5;241m.\u001b[39m_ids\u001b[38;5;241m.\u001b[39mget(name)\n\u001b[0;32m    110\u001b[0m \u001b[38;5;28;01mif\u001b[39;00m \u001b[38;5;129;01mnot\u001b[39;00m dispid:\n\u001b[1;32m--> 111\u001b[0m     dispid \u001b[38;5;241m=\u001b[39m \u001b[38;5;28;43mself\u001b[39;49m\u001b[38;5;241;43m.\u001b[39;49m\u001b[43m_comobj\u001b[49m\u001b[38;5;241;43m.\u001b[39;49m\u001b[43mGetIDsOfNames\u001b[49m\u001b[43m(\u001b[49m\u001b[43mname\u001b[49m\u001b[43m)\u001b[49m[\u001b[38;5;241m0\u001b[39m]\n\u001b[0;32m    112\u001b[0m     \u001b[38;5;28mself\u001b[39m\u001b[38;5;241m.\u001b[39m_ids[name] \u001b[38;5;241m=\u001b[39m dispid\n\u001b[0;32m    114\u001b[0m \u001b[38;5;28;01mif\u001b[39;00m name \u001b[38;5;129;01min\u001b[39;00m \u001b[38;5;28mself\u001b[39m\u001b[38;5;241m.\u001b[39m_methods:\n",
      "File \u001b[1;32m~\\AppData\\Local\\Packages\\PythonSoftwareFoundation.Python.3.10_qbz5n2kfra8p0\\LocalCache\\local-packages\\Python310\\site-packages\\comtypes\\automation.py:725\u001b[0m, in \u001b[0;36mIDispatch.GetIDsOfNames\u001b[1;34m(self, *names, **kw)\u001b[0m\n\u001b[0;32m    723\u001b[0m arr \u001b[38;5;241m=\u001b[39m (c_wchar_p \u001b[38;5;241m*\u001b[39m \u001b[38;5;28mlen\u001b[39m(names))(\u001b[38;5;241m*\u001b[39mnames)\n\u001b[0;32m    724\u001b[0m ids \u001b[38;5;241m=\u001b[39m (DISPID \u001b[38;5;241m*\u001b[39m \u001b[38;5;28mlen\u001b[39m(names))()\n\u001b[1;32m--> 725\u001b[0m \u001b[38;5;28;43mself\u001b[39;49m\u001b[38;5;241;43m.\u001b[39;49m\u001b[43m__com_GetIDsOfNames\u001b[49m\u001b[43m(\u001b[49m\u001b[43mriid_null\u001b[49m\u001b[43m,\u001b[49m\u001b[43m \u001b[49m\u001b[43marr\u001b[49m\u001b[43m,\u001b[49m\u001b[43m \u001b[49m\u001b[38;5;28;43mlen\u001b[39;49m\u001b[43m(\u001b[49m\u001b[43mnames\u001b[49m\u001b[43m)\u001b[49m\u001b[43m,\u001b[49m\u001b[43m \u001b[49m\u001b[43mlcid\u001b[49m\u001b[43m,\u001b[49m\u001b[43m \u001b[49m\u001b[43mids\u001b[49m\u001b[43m)\u001b[49m\n\u001b[0;32m    726\u001b[0m \u001b[38;5;28;01mreturn\u001b[39;00m ids[:]\n",
      "\u001b[1;31mCOMError\u001b[0m: (-2147418111, 'Call was rejected by callee.', (None, None, None, 0, None))"
     ]
    }
   ],
   "source": [
    "#pyautocad\n",
    "\n",
    "acad = Autocad(create_if_not_exists=True)\n",
    "acad.prompt(\"Hello, Autocad from Python\")\n",
    "print( acad.doc.Name)"
   ]
  },
  {
   "cell_type": "code",
   "execution_count": 120,
   "id": "5bd4a48c",
   "metadata": {},
   "outputs": [
    {
     "ename": "SyntaxError",
     "evalue": "invalid syntax (3742864207.py, line 1)",
     "output_type": "error",
     "traceback": [
      "\u001b[1;36m  Cell \u001b[1;32mIn[120], line 1\u001b[1;36m\u001b[0m\n\u001b[1;33m    doc.\u001b[0m\n\u001b[1;37m        ^\u001b[0m\n\u001b[1;31mSyntaxError\u001b[0m\u001b[1;31m:\u001b[0m invalid syntax\n"
     ]
    }
   ],
   "source": [
    "doc."
   ]
  },
  {
   "cell_type": "code",
   "execution_count": 44,
   "id": "696ea4c8",
   "metadata": {},
   "outputs": [],
   "source": [
    "# pyautocad\n",
    "\n",
    "p1 = APoint(0, 0)\n",
    "p2 = APoint(50, 25)\n",
    "for i in range(5):\n",
    "    text = acad.model.AddText(u'Hi %s!' % i, p1, 2.5)\n",
    "    acad.model.AddLine(p1, p2)\n",
    "    acad.model.AddCircle(p1, 10)\n",
    "    p1.y += 10\n"
   ]
  },
  {
   "cell_type": "code",
   "execution_count": 19,
   "id": "dd000d7c",
   "metadata": {},
   "outputs": [],
   "source": [
    "# Lấy tọa độ điểm\n",
    "doc.Utility.GetPoint()"
   ]
  },
  {
   "cell_type": "code",
   "execution_count": 5,
   "id": "a586ead7",
   "metadata": {},
   "outputs": [
    {
     "ename": "SyntaxError",
     "evalue": "Missing parentheses in call to 'print'. Did you mean print(...)? (870180202.py, line 3)",
     "output_type": "error",
     "traceback": [
      "\u001b[1;36m  Cell \u001b[1;32mIn[5], line 3\u001b[1;36m\u001b[0m\n\u001b[1;33m    print acad.doc.Name\u001b[0m\n\u001b[1;37m    ^\u001b[0m\n\u001b[1;31mSyntaxError\u001b[0m\u001b[1;31m:\u001b[0m Missing parentheses in call to 'print'. Did you mean print(...)?\n"
     ]
    }
   ],
   "source": [
    "acad = Autocad(create_if_not_exists=True)\n",
    "acad.prompt(\"Hello, Autocad from Python\\n\")\n",
    "print acad.doc.Name"
   ]
  },
  {
   "cell_type": "code",
   "execution_count": 6,
   "id": "ad76278b",
   "metadata": {},
   "outputs": [],
   "source": [
    "block_name = \"Rectangle\"\n",
    "insertion_point = win32com.client.VARIANT(pythoncom.VT_ARRAY | pythoncom.VT_R8, [0, 0, 0])\n",
    "blocks = doc.Blocks\n",
    "block = blocks.Add( insertion_point,block_name)\n",
    "# files = r\"C:\\\\Program Files\\\\Autodesk\\\\AutoCAD 2022\\\\acad.exe\"\n",
    "# doc.ModelSpace.InsertBlock(insertionPnt, files, 1, 1, 1, 0)\n"
   ]
  },
  {
   "cell_type": "code",
   "execution_count": 74,
   "id": "32e68bd8",
   "metadata": {},
   "outputs": [
    {
     "data": {
      "text/plain": [
       "('self', 'InsertionPoint', 'Name', 'ret')"
      ]
     },
     "execution_count": 74,
     "metadata": {},
     "output_type": "execute_result"
    }
   ],
   "source": [
    "# Liệt kê các tham số truyền vào của 1 hàm\n",
    "doc.Blocks.Add.__code__.co_varnames"
   ]
  },
  {
   "cell_type": "code",
   "execution_count": 85,
   "id": "95e1d689",
   "metadata": {},
   "outputs": [
    {
     "data": {
      "text/plain": [
       "['__call__',\n",
       " '__class__',\n",
       " '__delattr__',\n",
       " '__dir__',\n",
       " '__doc__',\n",
       " '__eq__',\n",
       " '__format__',\n",
       " '__func__',\n",
       " '__ge__',\n",
       " '__get__',\n",
       " '__getattribute__',\n",
       " '__gt__',\n",
       " '__hash__',\n",
       " '__init__',\n",
       " '__init_subclass__',\n",
       " '__le__',\n",
       " '__lt__',\n",
       " '__ne__',\n",
       " '__new__',\n",
       " '__reduce__',\n",
       " '__reduce_ex__',\n",
       " '__repr__',\n",
       " '__self__',\n",
       " '__setattr__',\n",
       " '__sizeof__',\n",
       " '__str__',\n",
       " '__subclasshook__']"
      ]
     },
     "execution_count": 85,
     "metadata": {},
     "output_type": "execute_result"
    }
   ],
   "source": [
    "dir(block.AddPolyline)"
   ]
  },
  {
   "cell_type": "code",
   "execution_count": 100,
   "id": "17e17764",
   "metadata": {},
   "outputs": [
    {
     "data": {
      "text/plain": [
       "('self', 'VerticesList', 'ret')"
      ]
     },
     "execution_count": 100,
     "metadata": {},
     "output_type": "execute_result"
    }
   ],
   "source": [
    "block.AddPolyline.__code__.co_varnames"
   ]
  },
  {
   "cell_type": "code",
   "execution_count": 101,
   "id": "cba4f81c",
   "metadata": {},
   "outputs": [],
   "source": [
    "points = win32com.client.VARIANT(pythoncom.VT_ARRAY | pythoncom.VT_R8, [\n",
    "    [0, 0, 0],\n",
    "    [10, 0, 0],\n",
    "    [10, 5, 0],\n",
    "    [0, 5, 0],\n",
    "    [0, 0, 0]\n",
    "])"
   ]
  },
  {
   "cell_type": "code",
   "execution_count": 106,
   "id": "6160071b",
   "metadata": {},
   "outputs": [
    {
     "data": {
      "text/plain": [
       "['__class__',\n",
       " '__delattr__',\n",
       " '__dict__',\n",
       " '__dir__',\n",
       " '__doc__',\n",
       " '__eq__',\n",
       " '__format__',\n",
       " '__ge__',\n",
       " '__getattribute__',\n",
       " '__gt__',\n",
       " '__hash__',\n",
       " '__init__',\n",
       " '__init_subclass__',\n",
       " '__le__',\n",
       " '__lt__',\n",
       " '__module__',\n",
       " '__ne__',\n",
       " '__new__',\n",
       " '__reduce__',\n",
       " '__reduce_ex__',\n",
       " '__repr__',\n",
       " '__setattr__',\n",
       " '__sizeof__',\n",
       " '__str__',\n",
       " '__subclasshook__',\n",
       " '__weakref__',\n",
       " '_del_value',\n",
       " '_get_value',\n",
       " '_set_value',\n",
       " '_value',\n",
       " 'value',\n",
       " 'varianttype']"
      ]
     },
     "execution_count": 106,
     "metadata": {},
     "output_type": "execute_result"
    }
   ],
   "source": [
    "(points)"
   ]
  },
  {
   "cell_type": "code",
   "execution_count": 7,
   "id": "fc476ce8",
   "metadata": {},
   "outputs": [
    {
     "ename": "com_error",
     "evalue": "(-2147352567, 'Exception occurred.', (0, 'AutoCAD.Application', 'Incorrect SafeArray dimension', 'C:\\\\Program Files\\\\Autodesk\\\\AutoCAD 2022\\\\HELP\\\\OLE_ERR.CHM', -2145320945, -2145320945), None)",
     "output_type": "error",
     "traceback": [
      "\u001b[1;31m---------------------------------------------------------------------------\u001b[0m",
      "\u001b[1;31mcom_error\u001b[0m                                 Traceback (most recent call last)",
      "Cell \u001b[1;32mIn[7], line 8\u001b[0m\n\u001b[0;32m      1\u001b[0m points \u001b[38;5;241m=\u001b[39m win32com\u001b[38;5;241m.\u001b[39mclient\u001b[38;5;241m.\u001b[39mVARIANT(pythoncom\u001b[38;5;241m.\u001b[39mVT_ARRAY \u001b[38;5;241m|\u001b[39m pythoncom\u001b[38;5;241m.\u001b[39mVT_R8, [\n\u001b[0;32m      2\u001b[0m     [\u001b[38;5;241m0\u001b[39m, \u001b[38;5;241m0\u001b[39m, \u001b[38;5;241m0\u001b[39m],\n\u001b[0;32m      3\u001b[0m     [\u001b[38;5;241m10\u001b[39m, \u001b[38;5;241m0\u001b[39m, \u001b[38;5;241m0\u001b[39m],\n\u001b[1;32m   (...)\u001b[0m\n\u001b[0;32m      6\u001b[0m     [\u001b[38;5;241m0\u001b[39m, \u001b[38;5;241m0\u001b[39m, \u001b[38;5;241m0\u001b[39m]\n\u001b[0;32m      7\u001b[0m ])\n\u001b[1;32m----> 8\u001b[0m polyline \u001b[38;5;241m=\u001b[39m \u001b[43mblock\u001b[49m\u001b[38;5;241;43m.\u001b[39;49m\u001b[43mAddPolyline\u001b[49m\u001b[43m(\u001b[49m\u001b[43mpoints\u001b[49m\u001b[43m)\u001b[49m\n",
      "File \u001b[1;32m<COMObject Add>:2\u001b[0m, in \u001b[0;36mAddPolyline\u001b[1;34m(self, VerticesList)\u001b[0m\n",
      "\u001b[1;31mcom_error\u001b[0m: (-2147352567, 'Exception occurred.', (0, 'AutoCAD.Application', 'Incorrect SafeArray dimension', 'C:\\\\Program Files\\\\Autodesk\\\\AutoCAD 2022\\\\HELP\\\\OLE_ERR.CHM', -2145320945, -2145320945), None)"
     ]
    }
   ],
   "source": [
    "points = win32com.client.VARIANT(pythoncom.VT_ARRAY | pythoncom.VT_R8, [\n",
    "    [0, 0, 0],\n",
    "    [10, 0, 0],\n",
    "    [10, 5, 0],\n",
    "    [0, 5, 0],\n",
    "    [0, 0, 0]\n",
    "])\n",
    "polyline = block.AddPolyline(points)"
   ]
  },
  {
   "cell_type": "code",
   "execution_count": 114,
   "id": "f3201c04",
   "metadata": {
    "scrolled": false
   },
   "outputs": [
    {
     "ename": "com_error",
     "evalue": "(-2147418111, 'Call was rejected by callee.', None, None)",
     "output_type": "error",
     "traceback": [
      "\u001b[1;31m---------------------------------------------------------------------------\u001b[0m",
      "\u001b[1;31mcom_error\u001b[0m                                 Traceback (most recent call last)",
      "Cell \u001b[1;32mIn[114], line 8\u001b[0m\n\u001b[0;32m      6\u001b[0m insertion_point \u001b[38;5;241m=\u001b[39m win32com\u001b[38;5;241m.\u001b[39mclient\u001b[38;5;241m.\u001b[39mVARIANT(pythoncom\u001b[38;5;241m.\u001b[39mVT_ARRAY \u001b[38;5;241m|\u001b[39m pythoncom\u001b[38;5;241m.\u001b[39mVT_R8, [\u001b[38;5;241m0\u001b[39m, \u001b[38;5;241m0\u001b[39m, \u001b[38;5;241m0\u001b[39m])\n\u001b[0;32m      7\u001b[0m insertionPnt \u001b[38;5;241m=\u001b[39m array\u001b[38;5;241m.\u001b[39marray(\u001b[38;5;124m'\u001b[39m\u001b[38;5;124md\u001b[39m\u001b[38;5;124m'\u001b[39m, [\u001b[38;5;241m0\u001b[39m,\u001b[38;5;241m0\u001b[39m,\u001b[38;5;241m0\u001b[39m])\n\u001b[1;32m----> 8\u001b[0m blocks \u001b[38;5;241m=\u001b[39m \u001b[43mdoc\u001b[49m\u001b[38;5;241;43m.\u001b[39;49m\u001b[43mBlocks\u001b[49m\n\u001b[0;32m      9\u001b[0m block \u001b[38;5;241m=\u001b[39m blocks\u001b[38;5;241m.\u001b[39mAdd( insertion_point,block_name)\n\u001b[0;32m     11\u001b[0m \u001b[38;5;66;03m#Tạo các điểm đại diện cho đỉnh của hình chữ nhật\u001b[39;00m\n",
      "File \u001b[1;32m~\\AppData\\Local\\Packages\\PythonSoftwareFoundation.Python.3.10_qbz5n2kfra8p0\\LocalCache\\local-packages\\Python310\\site-packages\\win32com\\client\\dynamic.py:628\u001b[0m, in \u001b[0;36mCDispatch.__getattr__\u001b[1;34m(self, attr)\u001b[0m\n\u001b[0;32m    624\u001b[0m debug_attr_print(\n\u001b[0;32m    625\u001b[0m     \u001b[38;5;124m\"\u001b[39m\u001b[38;5;124mGetting property Id 0x\u001b[39m\u001b[38;5;132;01m%x\u001b[39;00m\u001b[38;5;124m from OLE object\u001b[39m\u001b[38;5;124m\"\u001b[39m \u001b[38;5;241m%\u001b[39m retEntry\u001b[38;5;241m.\u001b[39mdispid\n\u001b[0;32m    626\u001b[0m )\n\u001b[0;32m    627\u001b[0m \u001b[38;5;28;01mtry\u001b[39;00m:\n\u001b[1;32m--> 628\u001b[0m     ret \u001b[38;5;241m=\u001b[39m \u001b[38;5;28;43mself\u001b[39;49m\u001b[38;5;241;43m.\u001b[39;49m\u001b[43m_oleobj_\u001b[49m\u001b[38;5;241;43m.\u001b[39;49m\u001b[43mInvoke\u001b[49m\u001b[43m(\u001b[49m\u001b[43mretEntry\u001b[49m\u001b[38;5;241;43m.\u001b[39;49m\u001b[43mdispid\u001b[49m\u001b[43m,\u001b[49m\u001b[43m \u001b[49m\u001b[38;5;241;43m0\u001b[39;49m\u001b[43m,\u001b[49m\u001b[43m \u001b[49m\u001b[43minvoke_type\u001b[49m\u001b[43m,\u001b[49m\u001b[43m \u001b[49m\u001b[38;5;241;43m1\u001b[39;49m\u001b[43m)\u001b[49m\n\u001b[0;32m    629\u001b[0m \u001b[38;5;28;01mexcept\u001b[39;00m pythoncom\u001b[38;5;241m.\u001b[39mcom_error \u001b[38;5;28;01mas\u001b[39;00m details:\n\u001b[0;32m    630\u001b[0m     \u001b[38;5;28;01mif\u001b[39;00m details\u001b[38;5;241m.\u001b[39mhresult \u001b[38;5;129;01min\u001b[39;00m ERRORS_BAD_CONTEXT:\n\u001b[0;32m    631\u001b[0m         \u001b[38;5;66;03m# May be a method.\u001b[39;00m\n",
      "\u001b[1;31mcom_error\u001b[0m: (-2147418111, 'Call was rejected by callee.', None, None)"
     ]
    }
   ],
   "source": [
    "\n",
    "# block_name = \"Rectangle\"\n",
    "# block = doc.Blocks.Add(0, win32com.client.VARIANT(pythoncom.VT_ARRAY | pythoncom.VT_R8, [0, 0, 0]), block_name)\n",
    "import array\n",
    "\n",
    "block_name = \"Rectangle\"\n",
    "insertion_point = win32com.client.VARIANT(pythoncom.VT_ARRAY | pythoncom.VT_R8, [0, 0, 0])\n",
    "insertionPnt = array.array('d', [0,0,0])\n",
    "blocks = doc.Blocks\n",
    "block = blocks.Add( insertion_point,block_name)\n",
    "\n",
    "#Tạo các điểm đại diện cho đỉnh của hình chữ nhật\n",
    "points = win32com.client.VARIANT(pythoncom.VT_ARRAY | pythoncom.VT_R8, [\n",
    "    [0, 0, 0],\n",
    "    [10, 0, 0],\n",
    "    [10, 5, 0],\n",
    "    [0, 5, 0],\n",
    "    [0, 0, 0]\n",
    "])\n",
    "\n",
    "\n",
    "\n",
    "# Tạo một Polyline từ các điểm\n",
    "polyline = block.AddPolyline(points)\n",
    "\n",
    "# Thêm Polyline vào không gian mô hình\n",
    "model_space = doc.ModelSpace\n",
    "insertion_point = win32com.client.VARIANT(pythoncom.VT_ARRAY | pythoncom.VT_R8, [0, 0, 0])\n",
    "model_space.InsertBlock(insertion_point, block_name, 1, 1, 1, 0)\n"
   ]
  },
  {
   "cell_type": "code",
   "execution_count": 17,
   "id": "21d173c8",
   "metadata": {},
   "outputs": [
    {
     "ename": "AttributeError",
     "evalue": "acColorRed",
     "output_type": "error",
     "traceback": [
      "\u001b[1;31m---------------------------------------------------------------------------\u001b[0m",
      "\u001b[1;31mAttributeError\u001b[0m                            Traceback (most recent call last)",
      "Cell \u001b[1;32mIn[17], line 8\u001b[0m\n\u001b[0;32m      5\u001b[0m new_layer \u001b[38;5;241m=\u001b[39m layers\u001b[38;5;241m.\u001b[39mAdd(\u001b[38;5;124m\"\u001b[39m\u001b[38;5;124mMyLayer\u001b[39m\u001b[38;5;124m\"\u001b[39m)\n\u001b[0;32m      7\u001b[0m \u001b[38;5;66;03m# Thiết lập thuộc tính cho layer mới\u001b[39;00m\n\u001b[1;32m----> 8\u001b[0m new_layer\u001b[38;5;241m.\u001b[39mColor \u001b[38;5;241m=\u001b[39m \u001b[43mwin32com\u001b[49m\u001b[38;5;241;43m.\u001b[39;49m\u001b[43mclient\u001b[49m\u001b[38;5;241;43m.\u001b[39;49m\u001b[43mconstants\u001b[49m\u001b[38;5;241;43m.\u001b[39;49m\u001b[43macColorRed\u001b[49m  \u001b[38;5;66;03m# Màu đỏ\u001b[39;00m\n\u001b[0;32m      9\u001b[0m new_layer\u001b[38;5;241m.\u001b[39mLineWeight \u001b[38;5;241m=\u001b[39m win32com\u001b[38;5;241m.\u001b[39mclient\u001b[38;5;241m.\u001b[39mconstants\u001b[38;5;241m.\u001b[39macLnWtByLayer  \u001b[38;5;66;03m# Độ dày theo layer\u001b[39;00m\n",
      "File \u001b[1;32m~\\AppData\\Local\\Packages\\PythonSoftwareFoundation.Python.3.10_qbz5n2kfra8p0\\LocalCache\\local-packages\\Python310\\site-packages\\win32com\\client\\__init__.py:231\u001b[0m, in \u001b[0;36mConstants.__getattr__\u001b[1;34m(self, a)\u001b[0m\n\u001b[0;32m    229\u001b[0m     \u001b[38;5;28;01mif\u001b[39;00m a \u001b[38;5;129;01min\u001b[39;00m d:\n\u001b[0;32m    230\u001b[0m         \u001b[38;5;28;01mreturn\u001b[39;00m d[a]\n\u001b[1;32m--> 231\u001b[0m \u001b[38;5;28;01mraise\u001b[39;00m \u001b[38;5;167;01mAttributeError\u001b[39;00m(a)\n",
      "\u001b[1;31mAttributeError\u001b[0m: acColorRed"
     ]
    }
   ],
   "source": [
    "#Lấy đối tượng Layers\n",
    "layers = doc.Layers\n",
    "\n",
    "# Tạo một layer mới\n",
    "new_layer = layers.Add(\"MyLayer\")\n",
    "\n",
    "# Thiết lập thuộc tính cho layer mới\n",
    "new_layer.Color = win32com.client.constants.acColorRed  # Màu đỏ\n",
    "new_layer.LineWeight = win32com.client.constants.acLnWtByLayer  # Độ dày theo layer\n",
    "\n"
   ]
  },
  {
   "cell_type": "code",
   "execution_count": 18,
   "id": "0ebac693",
   "metadata": {},
   "outputs": [
    {
     "ename": "com_error",
     "evalue": "(-2147352567, 'Exception occurred.', (0, 'AutoCAD.Application', 'Object was erased', 'C:\\\\Program Files\\\\Autodesk\\\\AutoCAD 2022\\\\HELP\\\\OLE_ERR.CHM', -2145386420, -2145386420), None)",
     "output_type": "error",
     "traceback": [
      "\u001b[1;31m---------------------------------------------------------------------------\u001b[0m",
      "\u001b[1;31mcom_error\u001b[0m                                 Traceback (most recent call last)",
      "Cell \u001b[1;32mIn[18], line 1\u001b[0m\n\u001b[1;32m----> 1\u001b[0m \u001b[38;5;28mdir\u001b[39m(\u001b[43mnew_layer\u001b[49m\u001b[38;5;241;43m.\u001b[39;49m\u001b[43mColor\u001b[49m)\n",
      "File \u001b[1;32m~\\AppData\\Local\\Packages\\PythonSoftwareFoundation.Python.3.10_qbz5n2kfra8p0\\LocalCache\\local-packages\\Python310\\site-packages\\win32com\\client\\dynamic.py:628\u001b[0m, in \u001b[0;36mCDispatch.__getattr__\u001b[1;34m(self, attr)\u001b[0m\n\u001b[0;32m    624\u001b[0m debug_attr_print(\n\u001b[0;32m    625\u001b[0m     \u001b[38;5;124m\"\u001b[39m\u001b[38;5;124mGetting property Id 0x\u001b[39m\u001b[38;5;132;01m%x\u001b[39;00m\u001b[38;5;124m from OLE object\u001b[39m\u001b[38;5;124m\"\u001b[39m \u001b[38;5;241m%\u001b[39m retEntry\u001b[38;5;241m.\u001b[39mdispid\n\u001b[0;32m    626\u001b[0m )\n\u001b[0;32m    627\u001b[0m \u001b[38;5;28;01mtry\u001b[39;00m:\n\u001b[1;32m--> 628\u001b[0m     ret \u001b[38;5;241m=\u001b[39m \u001b[38;5;28;43mself\u001b[39;49m\u001b[38;5;241;43m.\u001b[39;49m\u001b[43m_oleobj_\u001b[49m\u001b[38;5;241;43m.\u001b[39;49m\u001b[43mInvoke\u001b[49m\u001b[43m(\u001b[49m\u001b[43mretEntry\u001b[49m\u001b[38;5;241;43m.\u001b[39;49m\u001b[43mdispid\u001b[49m\u001b[43m,\u001b[49m\u001b[43m \u001b[49m\u001b[38;5;241;43m0\u001b[39;49m\u001b[43m,\u001b[49m\u001b[43m \u001b[49m\u001b[43minvoke_type\u001b[49m\u001b[43m,\u001b[49m\u001b[43m \u001b[49m\u001b[38;5;241;43m1\u001b[39;49m\u001b[43m)\u001b[49m\n\u001b[0;32m    629\u001b[0m \u001b[38;5;28;01mexcept\u001b[39;00m pythoncom\u001b[38;5;241m.\u001b[39mcom_error \u001b[38;5;28;01mas\u001b[39;00m details:\n\u001b[0;32m    630\u001b[0m     \u001b[38;5;28;01mif\u001b[39;00m details\u001b[38;5;241m.\u001b[39mhresult \u001b[38;5;129;01min\u001b[39;00m ERRORS_BAD_CONTEXT:\n\u001b[0;32m    631\u001b[0m         \u001b[38;5;66;03m# May be a method.\u001b[39;00m\n",
      "\u001b[1;31mcom_error\u001b[0m: (-2147352567, 'Exception occurred.', (0, 'AutoCAD.Application', 'Object was erased', 'C:\\\\Program Files\\\\Autodesk\\\\AutoCAD 2022\\\\HELP\\\\OLE_ERR.CHM', -2145386420, -2145386420), None)"
     ]
    }
   ],
   "source": [
    "dir(new_layer.Color)"
   ]
  },
  {
   "cell_type": "code",
   "execution_count": null,
   "id": "0e490e87",
   "metadata": {},
   "outputs": [],
   "source": []
  }
 ],
 "metadata": {
  "kernelspec": {
   "display_name": "Python 3 (ipykernel)",
   "language": "python",
   "name": "python3"
  },
  "language_info": {
   "codemirror_mode": {
    "name": "ipython",
    "version": 3
   },
   "file_extension": ".py",
   "mimetype": "text/x-python",
   "name": "python",
   "nbconvert_exporter": "python",
   "pygments_lexer": "ipython3",
   "version": "3.10.11"
  }
 },
 "nbformat": 4,
 "nbformat_minor": 5
}
